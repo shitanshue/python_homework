{
 "cells": [
  {
   "cell_type": "code",
   "execution_count": 1,
   "id": "62b981a2-3ecc-4d0e-ab6c-ec7633ad68dc",
   "metadata": {
    "tags": []
   },
   "outputs": [],
   "source": [
    "from pathlib import Path\n",
    "import csv\n",
    "csvpath = Path('../Resources/budget_data.csv')"
   ]
  },
  {
   "cell_type": "code",
   "execution_count": 2,
   "id": "5f53aee5-69d4-40f1-ad03-93ed2d6a7a90",
   "metadata": {
    "tags": []
   },
   "outputs": [],
   "source": [
    "# Variables\n",
    "total_months = 0\n",
    "month_of_change = []\n",
    "net_change_list = []\n",
    "greatest_increase_profit = [\"\", 0]\n",
    "greatest_decrease = [\"\", 9999999999999999999]\n",
    "total_net = 0\n"
   ]
  },
  {
   "cell_type": "code",
   "execution_count": 3,
   "id": "48200469-3835-43ec-8fbf-07f6aba6c06b",
   "metadata": {
    "tags": []
   },
   "outputs": [
    {
     "name": "stdout",
     "output_type": "stream",
     "text": [
      "['Date', 'Profit/Losses']\n",
      "['Feb-2010', '984655']\n",
      "2\n",
      "1852539\n",
      "['Mar-2010', '322013']\n",
      "3\n",
      "2174552\n",
      "['Apr-2010', '-69417']\n",
      "4\n",
      "2105135\n",
      "['May-2010', '310503']\n",
      "5\n",
      "2415638\n",
      "['Jun-2010', '522857']\n",
      "6\n",
      "2938495\n",
      "['Jul-2010', '1033096']\n",
      "7\n",
      "3971591\n",
      "['Aug-2010', '604885']\n",
      "8\n",
      "4576476\n",
      "['Sep-2010', '-216386']\n",
      "9\n",
      "4360090\n",
      "['Oct-2010', '477532']\n",
      "10\n",
      "4837622\n",
      "['Nov-2010', '893810']\n",
      "11\n",
      "5731432\n",
      "['Dec-2010', '-80353']\n",
      "12\n",
      "5651079\n",
      "['Jan-2011', '779806']\n",
      "13\n",
      "6430885\n",
      "['Feb-2011', '-335203']\n",
      "14\n",
      "6095682\n",
      "['Mar-2011', '697845']\n",
      "15\n",
      "6793527\n",
      "['Apr-2011', '793163']\n",
      "16\n",
      "7586690\n",
      "['May-2011', '485070']\n",
      "17\n",
      "8071760\n",
      "['Jun-2011', '584122']\n",
      "18\n",
      "8655882\n",
      "['Jul-2011', '62729']\n",
      "19\n",
      "8718611\n",
      "['Aug-2011', '668179']\n",
      "20\n",
      "9386790\n",
      "['Sep-2011', '899906']\n",
      "21\n",
      "10286696\n",
      "['Oct-2011', '834719']\n",
      "22\n",
      "11121415\n",
      "['Nov-2011', '132003']\n",
      "23\n",
      "11253418\n",
      "['Dec-2011', '309978']\n",
      "24\n",
      "11563396\n",
      "['Jan-2012', '-755566']\n",
      "25\n",
      "10807830\n",
      "['Feb-2012', '1170593']\n",
      "26\n",
      "11978423\n",
      "['Mar-2012', '252788']\n",
      "27\n",
      "12231211\n",
      "['Apr-2012', '1151518']\n",
      "28\n",
      "13382729\n",
      "['May-2012', '817256']\n",
      "29\n",
      "14199985\n",
      "['Jun-2012', '570757']\n",
      "30\n",
      "14770742\n",
      "['Jul-2012', '506702']\n",
      "31\n",
      "15277444\n",
      "['Aug-2012', '-1022534']\n",
      "32\n",
      "14254910\n",
      "['Sep-2012', '475062']\n",
      "33\n",
      "14729972\n",
      "['Oct-2012', '779976']\n",
      "34\n",
      "15509948\n",
      "['Nov-2012', '144175']\n",
      "35\n",
      "15654123\n",
      "['Dec-2012', '542494']\n",
      "36\n",
      "16196617\n",
      "['Jan-2013', '359333']\n",
      "37\n",
      "16555950\n",
      "['Feb-2013', '321469']\n",
      "38\n",
      "16877419\n",
      "['Mar-2013', '67780']\n",
      "39\n",
      "16945199\n",
      "['Apr-2013', '471435']\n",
      "40\n",
      "17416634\n",
      "['May-2013', '565603']\n",
      "41\n",
      "17982237\n",
      "['Jun-2013', '872480']\n",
      "42\n",
      "18854717\n",
      "['Jul-2013', '789480']\n",
      "43\n",
      "19644197\n",
      "['Aug-2013', '999942']\n",
      "44\n",
      "20644139\n",
      "['Sep-2013', '-1196225']\n",
      "45\n",
      "19447914\n",
      "['Oct-2013', '268997']\n",
      "46\n",
      "19716911\n",
      "['Nov-2013', '-687986']\n",
      "47\n",
      "19028925\n",
      "['Dec-2013', '1150461']\n",
      "48\n",
      "20179386\n",
      "['Jan-2014', '682458']\n",
      "49\n",
      "20861844\n",
      "['Feb-2014', '617856']\n",
      "50\n",
      "21479700\n",
      "['Mar-2014', '824098']\n",
      "51\n",
      "22303798\n",
      "['Apr-2014', '581943']\n",
      "52\n",
      "22885741\n",
      "['May-2014', '132864']\n",
      "53\n",
      "23018605\n",
      "['Jun-2014', '448062']\n",
      "54\n",
      "23466667\n",
      "['Jul-2014', '689161']\n",
      "55\n",
      "24155828\n",
      "['Aug-2014', '800701']\n",
      "56\n",
      "24956529\n",
      "['Sep-2014', '1166643']\n",
      "57\n",
      "26123172\n",
      "['Oct-2014', '947333']\n",
      "58\n",
      "27070505\n",
      "['Nov-2014', '578668']\n",
      "59\n",
      "27649173\n",
      "['Dec-2014', '988505']\n",
      "60\n",
      "28637678\n",
      "['Jan-2015', '1139715']\n",
      "61\n",
      "29777393\n",
      "['Feb-2015', '1029471']\n",
      "62\n",
      "30806864\n",
      "['Mar-2015', '687533']\n",
      "63\n",
      "31494397\n",
      "['Apr-2015', '-524626']\n",
      "64\n",
      "30969771\n",
      "['May-2015', '158620']\n",
      "65\n",
      "31128391\n",
      "['Jun-2015', '87795']\n",
      "66\n",
      "31216186\n",
      "['Jul-2015', '423389']\n",
      "67\n",
      "31639575\n",
      "['Aug-2015', '840723']\n",
      "68\n",
      "32480298\n",
      "['Sep-2015', '568529']\n",
      "69\n",
      "33048827\n",
      "['Oct-2015', '332067']\n",
      "70\n",
      "33380894\n",
      "['Nov-2015', '989499']\n",
      "71\n",
      "34370393\n",
      "['Dec-2015', '778237']\n",
      "72\n",
      "35148630\n",
      "['Jan-2016', '650000']\n",
      "73\n",
      "35798630\n",
      "['Feb-2016', '-1100387']\n",
      "74\n",
      "34698243\n",
      "['Mar-2016', '-174946']\n",
      "75\n",
      "34523297\n",
      "['Apr-2016', '757143']\n",
      "76\n",
      "35280440\n",
      "['May-2016', '445709']\n",
      "77\n",
      "35726149\n",
      "['Jun-2016', '712961']\n",
      "78\n",
      "36439110\n",
      "['Jul-2016', '-1163797']\n",
      "79\n",
      "35275313\n",
      "['Aug-2016', '569899']\n",
      "80\n",
      "35845212\n",
      "['Sep-2016', '768450']\n",
      "81\n",
      "36613662\n",
      "['Oct-2016', '102685']\n",
      "82\n",
      "36716347\n",
      "['Nov-2016', '795914']\n",
      "83\n",
      "37512261\n",
      "['Dec-2016', '60988']\n",
      "84\n",
      "37573249\n",
      "['Jan-2017', '138230']\n",
      "85\n",
      "37711479\n",
      "['Feb-2017', '671099']\n",
      "86\n",
      "38382578\n"
     ]
    }
   ],
   "source": [
    "with open(csvpath, 'r') as csvfile:\n",
    "    csvreader = csv.reader(csvfile, delimiter =',')\n",
    "    \n",
    "    header = next(csvreader)\n",
    "    print(header)\n",
    "    \n",
    "    first_row = next(csvreader)\n",
    "    total_months += 1\n",
    "    total_net += int(first_row[1])\n",
    "    previous_net = int(first_row[1])\n",
    "    \n",
    "    for row in csvreader:\n",
    "        print(row)\n",
    "\n",
    "        total_months += 1\n",
    "        print(total_months)\n",
    "        total_net += int(row[1])\n",
    "        print(total_net)\n",
    "        \n",
    "        net_change = int(row[1]) - previous_net\n",
    "        previous_net = int(row[1])\n",
    "        net_change_list += [net_change]\n",
    "        month_of_change += [row[0]]\n",
    "        \n",
    "        if net_change > greatest_increase_profit[1]:\n",
    "            greatest_increase_profit[0] = row[0]\n",
    "            greatest_increase_profit[1] = net_change\n",
    "            \n",
    "        if net_change < greatest_decrease[1]:\n",
    "            greatest_decrease[0] = row[0]\n",
    "            greatest_decrease[1] = net_change"
   ]
  },
  {
   "cell_type": "code",
   "execution_count": 9,
   "id": "07bc92d2-a69a-4d96-bd9d-3e840d5186f2",
   "metadata": {
    "tags": []
   },
   "outputs": [
    {
     "name": "stdout",
     "output_type": "stream",
     "text": [
      "86\n"
     ]
    }
   ],
   "source": [
    "print(total_months)"
   ]
  },
  {
   "cell_type": "code",
   "execution_count": 10,
   "id": "fecda9d2-121f-4a5c-867b-d9944ab679dd",
   "metadata": {
    "tags": []
   },
   "outputs": [
    {
     "name": "stdout",
     "output_type": "stream",
     "text": [
      "38382578\n"
     ]
    }
   ],
   "source": [
    "print(total_net)"
   ]
  },
  {
   "cell_type": "code",
   "execution_count": 4,
   "id": "04164a1e-b679-48c1-bf75-64021f1c0726",
   "metadata": {
    "tags": []
   },
   "outputs": [
    {
     "name": "stdout",
     "output_type": "stream",
     "text": [
      "-2315.12\n"
     ]
    }
   ],
   "source": [
    "average_change = round(sum(net_change_list) / len(net_change_list),2)\n",
    "print(average_change)"
   ]
  },
  {
   "cell_type": "code",
   "execution_count": 5,
   "id": "cb86ead0-cd58-4f60-ab23-46352a0a760d",
   "metadata": {
    "tags": []
   },
   "outputs": [
    {
     "name": "stdout",
     "output_type": "stream",
     "text": [
      "['Feb-2012', 1926159]\n"
     ]
    }
   ],
   "source": [
    "print(greatest_increase_profit)"
   ]
  },
  {
   "cell_type": "code",
   "execution_count": 6,
   "id": "3649c2b1-8206-4588-84da-45d9c78892bb",
   "metadata": {
    "tags": []
   },
   "outputs": [
    {
     "name": "stdout",
     "output_type": "stream",
     "text": [
      "['Sep-2013', -2196167]\n"
     ]
    }
   ],
   "source": [
    "print(greatest_decrease)"
   ]
  },
  {
   "cell_type": "code",
   "execution_count": 12,
   "id": "270b1984-b105-4fe8-b813-abb421fc99c2",
   "metadata": {
    "tags": []
   },
   "outputs": [],
   "source": [
    "output_path = 'output.txt'\n",
    "\n",
    "with open(output_path, 'w') as txt_file:\n",
    "    txt_file.write(f\"PyBank Financial Analysis\\n\")\n",
    "    txt_file.write(f\"Total Months :{total_months}\\n\")\n",
    "    txt_file.write(f\"Net Total Profit & Loss :${total_net}\\n\")\n",
    "    txt_file.write(f\"Average Change :${average_change}\\n\")\n",
    "    txt_file.write(f\"Greatest Increase in Profits :{greatest_increase_profit[0]} (${greatest_increase_profit[1]})\\n\")\n",
    "    txt_file.write(f\"Greatest Decrease in Loss :{greatest_decrease[0]} (${greatest_decrease[1]})\\n\")\n",
    "    "
   ]
  },
  {
   "cell_type": "code",
   "execution_count": null,
   "id": "249f1357-0964-4fa0-8ee7-4209e7115119",
   "metadata": {},
   "outputs": [],
   "source": []
  }
 ],
 "metadata": {
  "kernelspec": {
   "display_name": "Python 3 (ipykernel)",
   "language": "python",
   "name": "python3"
  },
  "language_info": {
   "codemirror_mode": {
    "name": "ipython",
    "version": 3
   },
   "file_extension": ".py",
   "mimetype": "text/x-python",
   "name": "python",
   "nbconvert_exporter": "python",
   "pygments_lexer": "ipython3",
   "version": "3.11.4"
  }
 },
 "nbformat": 4,
 "nbformat_minor": 5
}
